{
 "cells": [
  {
   "cell_type": "markdown",
   "metadata": {
    "nbpresent": {
     "id": "7b4b0dac-9cf6-4295-bc2e-50c33669f8bd"
    },
    "slideshow": {
     "slide_type": "slide"
    }
   },
   "source": [
    "<div class=\"alert alert-block alert-success\">\n",
    "<h3> Exercise 1: Solve the balls and bin problem via an integer program</h3>\n",
    "<p>Assume that you have the data for balls and bins provided to you.</p>\n",
    "<p>Solve to find the best assignment of balls into bins</p>\n",
    "</div>\n",
    "\n",
    "<img src=\"imgs/Balls.png\" width=\"60%\">\n",
    "\n",
    "<img src=\"imgs/Bins.png\" width=\"60%\">\n",
    "\n",
    "### Rules\n",
    "<ol>\n",
    "<li>Putting a ball into a bin gives you a reward equal to their product (ball score X bin score).\n",
    "<li>Balls can go into bins of matching colors only.\n",
    "<li>Small bin can accept only one small ball.\n",
    "<li> Big bin can accept either one large ball or two small balls.\n",
    "</ol>"
   ]
  },
  {
   "cell_type": "markdown",
   "metadata": {
    "slideshow": {
     "slide_type": "slide"
    }
   },
   "source": [
    "<div class=\"alert alert-block alert-success\">\n",
    "<h3> Exercise 2: Trading off different users</h3>\n",
    "<p>Assume that you have two different user groups that use the menu in very different ways, e.g. novice versus expert users. </p>\n",
    "<p>Given two sets of frequency distributions for the menu items, $p^{novice}$ and $p^{expert}$ your task is to reformulate the objective function so that it finds the best design for both user groups. </p>\n",
    "</div>"
   ]
  },
  {
   "cell_type": "code",
   "execution_count": 22,
   "metadata": {
    "collapsed": true
   },
   "outputs": [],
   "source": [
    "from gurobipy import *\n",
    "import utils_anna\n",
    "\n",
    "def solve(elements, positions, frequency, frequency2, distance):\n",
    "    # ==== 1. Create the (empty) model ====\n",
    "    model = Model(\"linear_menu\")\n",
    "\n",
    "    # ==== 2. Add decision variables ======\n",
    "    x = {}\n",
    "    # Create one binary variable for each element-position pair. \n",
    "    # We give it a meaningful name so we later understand what it means\n",
    "    # if it is set to 1\n",
    "    for e in elements:\n",
    "        for p in positions:\n",
    "            x[(e,p)] = model.addVar(vtype=GRB.BINARY, name=\"%s_%i\"%(e,p))            \n",
    "    # Integrate new variables\n",
    "    model.update()\n",
    "    \n",
    "    # ====3. Add Constraints ======\n",
    "    # Add constraints\n",
    "    # Each position is only assigned to one element\n",
    "    for p in positions: \n",
    "        model.addConstr(quicksum(x[(e,p)]\n",
    "                   for e in elements) == 1, \"uniqueness_constraint_%i\"%p)    \n",
    "    # Each element is only assigned to one position\n",
    "    for e in elements: \n",
    "        model.addConstr(quicksum(x[(e,p)]\n",
    "                   for p in positions) == 1, \"uniqueness_constraint_%s\"%e)\n",
    "    model.update()\n",
    "    \n",
    "    # ==== 4. Specify Objective function ======\n",
    "    reading_cost = 0.4 # assumed that scanning a single item takes 400 ms\n",
    "    \n",
    "    # Sum up the costs for mapping any element e to any position p\n",
    "    # Since we want the best solution to both user groups, we add the costs of both groups together\n",
    "    cost = quicksum((frequency[e] + frequency2[e]) * distance[p] * reading_cost * x[(e,p)]\n",
    "                                for e in elements\n",
    "                                   for p in positions)\n",
    "    model.setObjective(cost,GRB.MINIMIZE)\n",
    "\n",
    "    \n",
    "    # ==== 5. Optimize model ======    \n",
    "    model.optimize()\n",
    "    \n",
    "    # ====6. Extract solution ======   \n",
    "    layout = [None]*len(elements)\n",
    "    #create the layout (ordered list of elements) from the variables \n",
    "    #that are set to 1\n",
    "    for v in model.getVars():\n",
    "        if v.x == 1:\n",
    "            element = v.varName.split(\"_\")[0]        \n",
    "            position = int(v.varName.split(\"_\")[1])\n",
    "            layout[position] = element                 \n",
    "    \n",
    "    return layout, model.getObjective().getValue()\n",
    "\n",
    "    "
   ]
  },
  {
   "cell_type": "code",
   "execution_count": 23,
   "metadata": {
    "collapsed": true
   },
   "outputs": [],
   "source": [
    "#define elements and positions\n",
    "elements = ['Open', 'About','Quit','Help','Close',\n",
    "            'Save','Edit','Insert','Delete']\n",
    "positions = list(range(len(elements)))"
   ]
  },
  {
   "cell_type": "code",
   "execution_count": 24,
   "metadata": {
    "collapsed": true
   },
   "outputs": [],
   "source": [
    "#define cost factors for two different users\n",
    "frequency = {'Quit':0.3,'About':0.2,'Open':0.1,'Save':0.1,'Close':0.05,\n",
    "             'Help':0.02,'Edit':0.08,'Insert':0.1,'Delete':0.05}\n",
    "\n",
    "#cost factor for second user group. Values are have been changed randomly.\n",
    "frequency2 = {'Quit':0.05,'About':0.3,'Open':0.08,'Save':0.02,'Close':0.05,\n",
    "             'Help':0.1,'Edit':0.1,'Insert':0.1,'Delete':0.3}\n",
    "\n",
    "distance = map(lambda p:utils_anna.distance(1,0,p), positions)"
   ]
  },
  {
   "cell_type": "code",
   "execution_count": 26,
   "metadata": {},
   "outputs": [
    {
     "name": "stdout",
     "output_type": "stream",
     "text": [
      "Optimize a model with 18 rows, 81 columns and 162 nonzeros\n",
      "Variable types: 0 continuous, 81 integer (81 binary)\n",
      "Coefficient statistics:\n",
      "  Matrix range     [1e+00, 1e+00]\n",
      "  Objective range  [4e-02, 2e+00]\n",
      "  Bounds range     [1e+00, 1e+00]\n",
      "  RHS range        [1e+00, 1e+00]\n",
      "Found heuristic solution: objective 2.8040000\n",
      "Presolve time: 0.00s\n",
      "Presolved: 18 rows, 81 columns, 162 nonzeros\n",
      "Variable types: 0 continuous, 81 integer (81 binary)\n",
      "\n",
      "Root relaxation: objective 2.252000e+00, 34 iterations, 0.00 seconds\n",
      "\n",
      "    Nodes    |    Current Node    |     Objective Bounds      |     Work\n",
      " Expl Unexpl |  Obj  Depth IntInf | Incumbent    BestBd   Gap | It/Node Time\n",
      "\n",
      "*    0     0               0       2.2520000    2.25200  0.00%     -    0s\n",
      "\n",
      "Explored 0 nodes (34 simplex iterations) in 0.09 seconds\n",
      "Thread count was 1 (of 1 available processors)\n",
      "\n",
      "Solution count 2: 2.252 2.804 \n",
      "\n",
      "Optimal solution found (tolerance 1.00e-04)\n",
      "Best objective 2.252000000000e+00, best bound 2.252000000000e+00, gap 0.0000%\n",
      "Objective value (expected selection time): 2.252\n",
      "['About', 'Quit', 'Delete', 'Insert', 'Edit', 'Open', 'Save', 'Help', 'Close']\n"
     ]
    }
   ],
   "source": [
    "#solve the problem\n",
    "layout, objective = solve(elements, positions, frequency, frequency2, distance)\n",
    " \n",
    "#Print the solution\n",
    "print \"Objective value (expected selection time):\", objective\n",
    "#plot the layout\n",
    "print layout\n",
    "#SVGlayout = render_anna.SVGlayout(layout,1)\n",
    "#SVG(SVGlayout.inSVG)\n",
    "#SVGlayout.inSVG"
   ]
  },
  {
   "cell_type": "markdown",
   "metadata": {
    "slideshow": {
     "slide_type": "slide"
    }
   },
   "source": [
    "\n",
    "<div class=\"alert alert-block alert-success\">\n",
    "<h3> Exercise 3a: Modeling the letter assignment problem</h3>\n",
    "How can you model the problem of assigning characters to keyslots on a keyboard mathematically?\n",
    "<ol>\n",
    "<li> Define the decision variables\n",
    "<li> Add the necessary constraints\n",
    "<li> Formulate the objective function. \n",
    "</ol>\n",
    "</div>\n",
    "\n",
    "<br>\n",
    "<div class=\"alert alert-block alert-success\">\n",
    "<h3> Exercise 3b: Implementing the letter assignment problem in Gurobi</h3>\n",
    "Implement the model in Gurobi and optimize a keyboard layout for the given letters.\n",
    "</div>\n",
    "\n",
    "<div class=\"alert alert-block alert-success\">\n",
    "<h3> Bonus task:</h3>\n",
    "<p>We really want to name our keyboard the \"HCI\" keyboard.</p>\n",
    "<br>\n",
    "<p>Therefore, your task is to change the mathematical model and its implementation so that the letters H - C - I are placed next to each other on any of the rows of the computer, as in the example keyboard below. Do not change the input data.</p>\n",
    "<p>\n",
    "How much worse is this keyboard in comparison to the unconstrained problem?</p>                                                 \n",
    "</div>"
   ]
  }
 ],
 "metadata": {
  "anaconda-cloud": {},
  "celltoolbar": "Slideshow",
  "kernelspec": {
   "display_name": "Python 2",
   "language": "python",
   "name": "python2"
  },
  "language_info": {
   "codemirror_mode": {
    "name": "ipython",
    "version": 2
   },
   "file_extension": ".py",
   "mimetype": "text/x-python",
   "name": "python",
   "nbconvert_exporter": "python",
   "pygments_lexer": "ipython2",
   "version": "2.7.14"
  },
  "nbpresent": {
   "slides": {
    "26fe7b45-6d90-49a8-8ce4-79a4cb8b4667": {
     "id": "26fe7b45-6d90-49a8-8ce4-79a4cb8b4667",
     "prev": null,
     "regions": {
      "34ecf333-f8e3-4eaf-acd6-4858aa2c94d2": {
       "attrs": {
        "height": 0.8,
        "width": 0.8,
        "x": 0.1,
        "y": 0.1
       },
       "content": {
        "cell": "23c3a77b-6dcc-430e-8b64-f5c0bbe52f24",
        "part": "whole"
       },
       "id": "34ecf333-f8e3-4eaf-acd6-4858aa2c94d2"
      }
     }
    },
    "292f5d58-6e39-4012-8a84-3570c82de17c": {
     "id": "292f5d58-6e39-4012-8a84-3570c82de17c",
     "prev": "26fe7b45-6d90-49a8-8ce4-79a4cb8b4667",
     "regions": {
      "ea7af104-550f-4033-88a4-7a8b50ba1a34": {
       "attrs": {
        "height": 1,
        "width": 1,
        "x": 0,
        "y": 0
       },
       "content": {
        "cell": "7b4b0dac-9cf6-4295-bc2e-50c33669f8bd",
        "part": "whole"
       },
       "id": "ea7af104-550f-4033-88a4-7a8b50ba1a34"
      }
     }
    },
    "a8821190-b1cc-401e-8981-2db95d4a7c53": {
     "id": "a8821190-b1cc-401e-8981-2db95d4a7c53",
     "prev": "292f5d58-6e39-4012-8a84-3570c82de17c",
     "regions": {
      "2b3603d3-5d2f-4da2-9c41-247fd9cb9967": {
       "attrs": {
        "height": 0.4,
        "width": 0.8,
        "x": 0.1,
        "y": 0.5
       },
       "content": {
        "cell": "92f3fa22-b6eb-424d-b0c4-570435fa61de",
        "part": "whole"
       },
       "id": "2b3603d3-5d2f-4da2-9c41-247fd9cb9967"
      },
      "aae6f92e-c9e9-4f78-92d8-18751fde68ae": {
       "attrs": {
        "height": 0.8,
        "width": 0.8,
        "x": 0.1,
        "y": 0.1
       },
       "content": {
        "cell": "078959e8-4fb8-40b3-9cbb-2d457c216d70",
        "part": "whole"
       },
       "id": "aae6f92e-c9e9-4f78-92d8-18751fde68ae"
      }
     }
    },
    "c3b94dc6-8856-455d-8d3a-6c1281f5c93c": {
     "id": "c3b94dc6-8856-455d-8d3a-6c1281f5c93c",
     "prev": "a8821190-b1cc-401e-8981-2db95d4a7c53",
     "regions": {
      "997a5b1d-5d19-4067-8abe-960b97443acb": {
       "attrs": {
        "height": 0.4,
        "width": 0.8,
        "x": 0.1,
        "y": 0.5
       },
       "content": {
        "cell": "2ca3fd55-e3db-402e-96c2-3a3d1ef167be",
        "part": "whole"
       },
       "id": "997a5b1d-5d19-4067-8abe-960b97443acb"
      },
      "e0628ff0-018a-4cf8-b793-7b6837007f52": {
       "attrs": {
        "height": 0.8,
        "width": 0.8,
        "x": 0.1,
        "y": 0.1
       },
       "content": {
        "cell": "0a1773f0-08ae-403a-a8bc-acf0c4239686",
        "part": "whole"
       },
       "id": "e0628ff0-018a-4cf8-b793-7b6837007f52"
      }
     }
    }
   },
   "themes": {
    "default": "9c36868f-d806-43d5-b3e6-8b4bb8dd7fb7",
    "theme": {}
   }
  }
 },
 "nbformat": 4,
 "nbformat_minor": 1
}
